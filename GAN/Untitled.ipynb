{
 "cells": [
  {
   "cell_type": "code",
   "execution_count": 1,
   "metadata": {},
   "outputs": [],
   "source": [
    "from utils import get_config"
   ]
  },
  {
   "cell_type": "code",
   "execution_count": 3,
   "metadata": {},
   "outputs": [
    {
     "data": {
      "text/plain": [
       "{'input_size': 64,\n",
       " 'channel': 3,\n",
       " 'random_seed': 0,\n",
       " 'epochs': 1000,\n",
       " 'learning_rate': 0.0002,\n",
       " 'beta_1': 0.5,\n",
       " 'batch_size': 64,\n",
       " 'latent_dim': 128,\n",
       " 'gen': {'n_layer': 3, 'n_filter': [256]},\n",
       " 'dis': {'n_layer': 3, 'n_filter': 64},\n",
       " 'test_batch_size': 36,\n",
       " 'train_data_txt': '../dataset/cifar10/train.txt',\n",
       " 'output_dir': './output',\n",
       " 'checkpoint_dir': './checkpoint',\n",
       " 'log_dir': './log'}"
      ]
     },
     "execution_count": 3,
     "metadata": {},
     "output_type": "execute_result"
    }
   ],
   "source": [
    "get_config('configs/DCGAN/cifar10.yaml')"
   ]
  }
 ],
 "metadata": {
  "kernelspec": {
   "display_name": "Python 3",
   "language": "python",
   "name": "python3"
  },
  "language_info": {
   "codemirror_mode": {
    "name": "ipython",
    "version": 3
   },
   "file_extension": ".py",
   "mimetype": "text/x-python",
   "name": "python",
   "nbconvert_exporter": "python",
   "pygments_lexer": "ipython3",
   "version": "3.8.3"
  }
 },
 "nbformat": 4,
 "nbformat_minor": 4
}
